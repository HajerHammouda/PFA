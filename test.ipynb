{
 "cells": [
  {
   "cell_type": "code",
   "execution_count": 75,
   "metadata": {},
   "outputs": [],
   "source": [
    "import librosa\n",
    "from keras.utils import np_utils"
   ]
  },
  {
   "cell_type": "code",
   "execution_count": 76,
   "metadata": {},
   "outputs": [
    {
     "name": "stdout",
     "output_type": "stream",
     "text": [
      "[0 1 2 3]\n",
      "['.ipynb_checkpoints', 'mnist', 'mnist.zip', 'Untitled.ipynb']\n",
      "[[ 1.  0.  0.  0.]\n",
      " [ 0.  1.  0.  0.]\n",
      " [ 0.  0.  1.  0.]\n",
      " [ 0.  0.  0.  1.]]\n"
     ]
    }
   ],
   "source": [
    "import os\n",
    "labels=os.listdir(\"./CNN\");\n",
    "label_indices = np.arange(0, len(labels))\n",
    "print(label_indices)\n",
    "print(labels)\n",
    "print(np_utils.to_categorical(label_indices))"
   ]
  },
  {
   "cell_type": "code",
   "execution_count": 15,
   "metadata": {},
   "outputs": [],
   "source": [
    "import numpy as np"
   ]
  },
  {
   "cell_type": "code",
   "execution_count": 60,
   "metadata": {},
   "outputs": [
    {
     "name": "stdout",
     "output_type": "stream",
     "text": [
      "[1, 3, 7, 9]\n"
     ]
    }
   ],
   "source": [
    "wave, sr = librosa.load(\"./english.wav\", mono=True, sr=None)\n",
    "a= [1,2,3,6,7,8,9]\n",
    "b=a[::2]\n",
    "print(b)"
   ]
  },
  {
   "cell_type": "code",
   "execution_count": 61,
   "metadata": {},
   "outputs": [
    {
     "name": "stdout",
     "output_type": "stream",
     "text": [
      "11374\n",
      "34122\n"
     ]
    }
   ],
   "source": [
    "print(len(wave[::3]));\n",
    "print(len(wave));"
   ]
  },
  {
   "cell_type": "code",
   "execution_count": 66,
   "metadata": {},
   "outputs": [
    {
     "name": "stdout",
     "output_type": "stream",
     "text": [
      "(40, 34)\n"
     ]
    }
   ],
   "source": [
    "mfcc = librosa.feature.mfcc(wave, sr,n_mfcc=40,hop_length=1024)\n",
    "print (mfcc.shape);\n"
   ]
  },
  {
   "cell_type": "code",
   "execution_count": 68,
   "metadata": {},
   "outputs": [
    {
     "name": "stdout",
     "output_type": "stream",
     "text": [
      "(40, 40)\n",
      "0\n",
      "[  4.36935651   3.18774673   5.21481551   4.46680171  10.83968297\n",
      "   0.93622526  -1.00771591  -1.69512011   3.68294297  14.50821686\n",
      "  -1.37629489  -1.13811245  -1.78786945  -4.76625219   8.47107611\n",
      "   7.56143722  -0.03667358  14.70689569  21.16018652  17.59303234\n",
      "   4.13190925   1.40479081  -1.83024317   2.57333417   0.49063896\n",
      "   1.62198309   3.90668483   3.0108477    2.16634234   2.87990401\n",
      "   2.23713798   3.87213414   4.22955762   3.27182686   0.           0.           0.\n",
      "   0.           0.           0.        ]\n"
     ]
    }
   ],
   "source": [
    "pad_width = 40 - mfcc.shape[1]\n",
    "mfcc = np.pad(mfcc, pad_width=((0, 0), (0, pad_width)), mode='constant')\n",
    "print (mfcc.shape);\n",
    "import matplotlib.pyplot as plt\n",
    "print(pad_width)\n",
    "print(mfcc[39])"
   ]
  },
  {
   "cell_type": "markdown",
   "metadata": {},
   "source": [
    "default hop value is 512 ( overlapping)"
   ]
  },
  {
   "cell_type": "code",
   "execution_count": 59,
   "metadata": {},
   "outputs": [
    {
     "data": {
      "image/png": "[encoded data removed]",
      "text/plain": [
       "<matplotlib.figure.Figure at 0x573557518>"
      ]
     },
     "metadata": {},
     "output_type": "display_data"
    }
   ],
   "source": [
    "plt.imshow(mfcc);"
   ]
  },
  {
   "cell_type": "code",
   "execution_count": null,
   "metadata": {},
   "outputs": [],
   "source": []
  }
 ],
 "metadata": {
  "kernelspec": {
   "display_name": "Python 3",
   "language": "python",
   "name": "python3"
  },
  "language_info": {
   "codemirror_mode": {
    "name": "ipython",
    "version": 3
   },
   "file_extension": ".py",
   "mimetype": "text/x-python",
   "name": "python",
   "nbconvert_exporter": "python",
   "pygments_lexer": "ipython3",
   "version": "3.5.4"
  }
 },
 "nbformat": 4,
 "nbformat_minor": 2
}
